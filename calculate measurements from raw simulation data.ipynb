{
 "cells": [
  {
   "cell_type": "code",
   "execution_count": 16,
   "metadata": {},
   "outputs": [],
   "source": [
    "import csv\n",
    "import glob\n",
    "import pickle\n",
    "import numpy as np\n",
    "import scipy as sp\n",
    "from scipy.stats import ttest_ind\n",
    "\n",
    "import matplotlib.pyplot as plt\n",
    "%matplotlib inline"
   ]
  },
  {
   "cell_type": "code",
   "execution_count": 28,
   "metadata": {},
   "outputs": [],
   "source": [
    "NN = 64."
   ]
  },
  {
   "cell_type": "code",
   "execution_count": 29,
   "metadata": {},
   "outputs": [],
   "source": [
    "metrics_selected = list(['death','cuminfection_0','cuminfection_1', 'cuminfection_2', 'cuminfection_12', \n",
    "                         'cuminfection_X', 'labresult_0', 'labresult_1', 'labresult_2', 'labresult_12',\n",
    "                        'cumsuperinfection', 'colonization_0', 'colonization_1', 'colonization_2', \n",
    "                         'colonization_12', 'misempiric', 'tempempiric', 'def_drug_use_A', 'def_drug_use_B', \n",
    "                         'def_drug_use_C', 'def_drug_use_L', 'corr_drug_use_A', 'corr_drug_use_B', \n",
    "                         'corr_drug_use_C', 'corr_drug_use_L', 'mutation_1', 'mutation_2', 'mutation_12', \n",
    "                         'transmission_0', 'transmission_1', 'transmission_2', 'transmission_12'])"
   ]
  },
  {
   "cell_type": "code",
   "execution_count": 30,
   "metadata": {},
   "outputs": [],
   "source": [
    "def cohen_d(x,y):\n",
    "    nx = len(x)\n",
    "    ny = len(y)\n",
    "    dof = nx + ny - 2\n",
    "    return (np.mean(x) - np.mean(y)) / np.sqrt(((nx-1)*np.std(x, ddof=1) ** 2 + (ny-1)*np.std(y, ddof=1) ** 2) / dof)"
   ]
  },
  {
   "cell_type": "code",
   "execution_count": 31,
   "metadata": {},
   "outputs": [],
   "source": [
    "def cohen_d_compute(v1, v2, metric):\n",
    "    v1_metric_list = [value[metric][-1]/value['admission'][-1]*100 for key, value in v1.items()]\n",
    "    v2_metric_list = [value[metric][-1]/value['admission'][-1]*100 for key, value in v2.items()]\n",
    "    return round(cohen_d(v1_metric_list, v2_metric_list),3)"
   ]
  },
  {
   "cell_type": "code",
   "execution_count": 32,
   "metadata": {},
   "outputs": [],
   "source": [
    "def cohen_d_compute_time(v1, v2, metric, n):\n",
    "    v1_metric_list = [value[metric][n]/(NN+value['admission'][n])*100 for key, value in v1.items()]\n",
    "    v2_metric_list = [value[metric][n]/(NN+value['admission'][n])*100 for key, value in v2.items()]\n",
    "    return round(cohen_d(v1_metric_list, v2_metric_list),3)"
   ]
  },
  {
   "cell_type": "code",
   "execution_count": 33,
   "metadata": {},
   "outputs": [],
   "source": [
    "def cohen_d_compute_iter(v1, v2, metric, n):\n",
    "    v1_metric_list = [value[metric][-1]/(NN+value['admission'][-1])*100 for key, value in v1.items()]\n",
    "    v2_metric_list = [value[metric][-1]/(NN+value['admission'][-1])*100 for key, value in v2.items()]\n",
    "    return round(cohen_d(v1_metric_list[:n], v2_metric_list[:n]),3)"
   ]
  },
  {
   "cell_type": "code",
   "execution_count": 34,
   "metadata": {},
   "outputs": [],
   "source": [
    "metrics2_selected = list(['realcuminfection_0','realcuminfection_1','realcuminfection_2','realcuminfection_12',\n",
    "                         'misempirictotal','druguseB','druguseC','cuminfection'])\n",
    "\n",
    "def cohen_d_metrics2 (v1, v2, n, metric):\n",
    "    if metric == 'realcuminfection_0':\n",
    "        v1_metric_list = [(value['labresult_0'][n]+value['transmission_0'][n])/(NN+value['admission'][n])*100 for key, value in v1.items()]\n",
    "        v2_metric_list = [(value['labresult_0'][n]+value['transmission_0'][n])/(NN+value['admission'][n])*100 for key, value in v2.items()]\n",
    "    elif metric == 'realcuminfection_1':\n",
    "        v1_metric_list = [(value['labresult_1'][n]+value['transmission_1'][n]+value['mutation_1'][n])/(NN+value['admission'][n])*100 for key, value in v1.items()]\n",
    "        v2_metric_list = [(value['labresult_1'][n]+value['transmission_1'][n]+value['mutation_1'][n])/(NN+value['admission'][n])*100 for key, value in v2.items()]\n",
    "    elif metric == 'realcuminfection_2':\n",
    "        v1_metric_list = [(value['labresult_2'][n]+value['transmission_2'][n]+value['mutation_2'][n])/(NN+value['admission'][n])*100 for key, value in v1.items()]\n",
    "        v2_metric_list = [(value['labresult_2'][n]+value['transmission_2'][n]+value['mutation_2'][n])/(NN+value['admission'][n])*100 for key, value in v2.items()]\n",
    "    elif metric == 'realcuminfection_12':\n",
    "        v1_metric_list = [(value['labresult_12'][n]+value['transmission_12'][n]+value['mutation_12'][n])/(NN+value['admission'][n])*100 for key, value in v1.items()]\n",
    "        v2_metric_list = [(value['labresult_12'][n]+value['transmission_12'][n]+value['mutation_12'][n])/(NN+value['admission'][n])*100 for key, value in v2.items()]\n",
    "    elif metric == 'misempirictotal':\n",
    "        v1_metric_list = [(value['misempiric'][n]+value['labresult_2'][n]+value['labresult_12'][n])/(NN+value['admission'][n])*100 for key, value in v1.items()]\n",
    "        v2_metric_list = [(value['misempiric'][n]+value['labresult_2'][n]+value['labresult_12'][n])/(NN+value['admission'][n])*100 for key, value in v2.items()]\n",
    "    elif metric == 'druguseB':\n",
    "        v1_metric_list = [(value['def_drug_use_B'][n]+value['corr_drug_use_B'][n])/(NN+value['admission'][n])*100 for key, value in v1.items()]\n",
    "        v2_metric_list = [(value['def_drug_use_B'][n]+value['corr_drug_use_B'][n])/(NN+value['admission'][n])*100 for key, value in v2.items()]\n",
    "    elif metric == 'druguseC':\n",
    "        v1_metric_list = [(value['def_drug_use_C'][n]+value['corr_drug_use_C'][n])/(NN+value['admission'][n])*100 for key, value in v1.items()]\n",
    "        v2_metric_list = [(value['def_drug_use_C'][n]+value['corr_drug_use_C'][n])/(NN+value['admission'][n])*100 for key, value in v2.items()]\n",
    "    elif metric == 'cuminfection':\n",
    "        v1_metric_list = [(value['labresult_0'][n]+value['transmission_0'][n]+value['labresult_1'][n]+value['transmission_1'][n]+value['mutation_1'][n]\n",
    "                          +value['labresult_2'][n]+value['transmission_2'][n]+value['mutation_2'][n]+value['labresult_12'][n]+value['transmission_12'][n]+value['mutation_12'][n])/(NN+value['admission'][n])*100 for key, value in v1.items()]\n",
    "        v2_metric_list = [(value['labresult_0'][n]+value['transmission_0'][n]+value['labresult_1'][n]+value['transmission_1'][n]+value['mutation_1'][n]\n",
    "                          +value['labresult_2'][n]+value['transmission_2'][n]+value['mutation_2'][n]+value['labresult_12'][n]+value['transmission_12'][n]+value['mutation_12'][n])/(NN+value['admission'][n])*100 for key, value in v2.items()]\n",
    "    return round(cohen_d(v1_metric_list, v2_metric_list),3)"
   ]
  },
  {
   "cell_type": "code",
   "execution_count": 35,
   "metadata": {},
   "outputs": [],
   "source": [
    "folder_path = \"/Users/xxh31/Desktop/rand_expmts/p64h16/\"\n",
    "\n",
    "file_names = ['q=0.3_p&r=0.3', 'q=0.2_p&r=0.5', 'q=0.5_p&r=0.2', 'q=0.15_p&r=0.15', \n",
    "              'q=0.05_p&r=0.5', 'q=0.5_p&r=0.05']\n",
    "\n",
    "dic_metrics2 = {}\n",
    "\n",
    "for file_name in file_names:\n",
    "\n",
    "    pairs = ('v1_' + file_name, 'v2_' + file_name)\n",
    "\n",
    "    pkl_file1 = glob.glob(folder_path + pairs[0] + '/*.pkl')[0]\n",
    "\n",
    "    with open(pkl_file1, \"rb\") as f:\n",
    "        record_v1 = pickle.load(f)\n",
    "\n",
    "    pkl_file2 = glob.glob(folder_path + pairs[1] + '/*.pkl')[0]\n",
    "\n",
    "    with open(pkl_file2, \"rb\") as f:\n",
    "        record_v2 = pickle.load(f)\n",
    "        \n",
    "    longlist = []\n",
    "    for metric in metrics2_selected:\n",
    "        clist = []\n",
    "        for i in range (1,209):\n",
    "            clist.append(cohen_d_metrics2(record_v1, record_v2, 7*i, metric))\n",
    "        longlist.append(clist)\n",
    "    dic_metrics2[file_name] = longlist"
   ]
  },
  {
   "cell_type": "code",
   "execution_count": 36,
   "metadata": {},
   "outputs": [],
   "source": [
    "## save Cohen's D values about metrics2 as pickle file ##\n",
    "import pickle\n",
    "with open('metrics2_p64h16.pickle', 'wb') as handle:\n",
    "    pickle.dump(dic_metrics2, handle, protocol=pickle.HIGHEST_PROTOCOL)\n",
    "\n",
    "#with open('metrics2.pickle', 'rb') as handle:\n",
    "#    dic_metrics2 = pickle.load(handle)"
   ]
  },
  {
   "cell_type": "code",
   "execution_count": 37,
   "metadata": {},
   "outputs": [
    {
     "name": "stderr",
     "output_type": "stream",
     "text": [
      "<ipython-input-30-0f697522448f>:5: RuntimeWarning: invalid value encountered in double_scalars\n",
      "  return (np.mean(x) - np.mean(y)) / np.sqrt(((nx-1)*np.std(x, ddof=1) ** 2 + (ny-1)*np.std(y, ddof=1) ** 2) / dof)\n"
     ]
    }
   ],
   "source": [
    "folder_path = \"/Users/xxh31/Desktop/rand_expmts/p64h16/\"\n",
    "\n",
    "file_names = ['q=0.3_p&r=0.3', 'q=0.2_p&r=0.5', 'q=0.5_p&r=0.2', 'q=0.15_p&r=0.15', \n",
    "              'q=0.05_p&r=0.5', 'q=0.5_p&r=0.05']\n",
    "\n",
    "dic_metrics1 = {}\n",
    "\n",
    "for file_name in file_names:\n",
    "\n",
    "    pairs = ('v1_' + file_name, 'v2_' + file_name)\n",
    "\n",
    "    pkl_file1 = glob.glob(folder_path+pairs[0]+'/*.pkl')[0]\n",
    "\n",
    "    with open(pkl_file1, \"rb\") as f:\n",
    "        record_v1 = pickle.load(f)\n",
    "\n",
    "    pkl_file2 = glob.glob(folder_path+pairs[1]+'/*.pkl')[0]\n",
    "\n",
    "    with open(pkl_file2, \"rb\") as f:\n",
    "        record_v2 = pickle.load(f)\n",
    "    longlist = []\n",
    "    for metric in metrics_selected:\n",
    "        clist = []\n",
    "        for i in range (1,209):\n",
    "            clist.append(cohen_d_compute_time(record_v1, record_v2, metric, 7*i))\n",
    "        longlist.append(clist)\n",
    "    dic_metrics1[file_name] = longlist"
   ]
  },
  {
   "cell_type": "code",
   "execution_count": 38,
   "metadata": {},
   "outputs": [],
   "source": [
    "## save Cohen's D values about metrics1 as pickle file ##\n",
    "\n",
    "with open('metrics1_p64h16.pickle', 'wb') as handle:\n",
    "    pickle.dump(dic_metrics1, handle, protocol=pickle.HIGHEST_PROTOCOL)\n",
    "\n",
    "#with open('metrics1.pickle', 'rb') as handle:\n",
    "#    dic_metrics1 = pickle.load(handle)"
   ]
  },
  {
   "cell_type": "code",
   "execution_count": null,
   "metadata": {},
   "outputs": [],
   "source": []
  }
 ],
 "metadata": {
  "kernelspec": {
   "display_name": "Python 3",
   "language": "python",
   "name": "python3"
  },
  "language_info": {
   "codemirror_mode": {
    "name": "ipython",
    "version": 3
   },
   "file_extension": ".py",
   "mimetype": "text/x-python",
   "name": "python",
   "nbconvert_exporter": "python",
   "pygments_lexer": "ipython3",
   "version": "3.8.3"
  }
 },
 "nbformat": 4,
 "nbformat_minor": 2
}
